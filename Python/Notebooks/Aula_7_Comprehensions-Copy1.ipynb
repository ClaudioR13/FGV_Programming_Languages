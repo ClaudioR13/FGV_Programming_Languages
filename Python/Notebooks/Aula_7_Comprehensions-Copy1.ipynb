{
 "cells": [
  {
   "cell_type": "markdown",
   "metadata": {},
   "source": [
    "FGV - Escola de Matemática Aplicada\n",
    "==\n",
    "Introdução à Programação com a Linguagem Python\n",
    "--"
   ]
  },
  {
   "cell_type": "code",
   "execution_count": 7,
   "metadata": {},
   "outputs": [],
   "source": [
    "import time"
   ]
  },
  {
   "cell_type": "markdown",
   "metadata": {},
   "source": [
    "# Comprehensions:"
   ]
  },
  {
   "cell_type": "markdown",
   "metadata": {},
   "source": [
    "Em Python temos existem construções sintáticas que permitem a construção de sequências de maneira mais clara e concisa. São elas:\n",
    "\n",
    "- list comprehension\n",
    "- set comprehension\n",
    "- dict comprehension"
   ]
  },
  {
   "cell_type": "markdown",
   "metadata": {},
   "source": [
    "## 1) List Comprehension"
   ]
  },
  {
   "cell_type": "markdown",
   "metadata": {},
   "source": [
    "Uma list comprehension é uma maneira concisa de construir uma lista preenchida. Um uso comum é construir uma nova lista onde cada elemento é o resultado de alguma expressão aplicada a cada membro de outra sequência ou iterável, ou para construir uma subsequência cujos elementos satisfazem uma certa condição."
   ]
  },
  {
   "cell_type": "markdown",
   "metadata": {},
   "source": [
    "Ela irá seguir um modelo:  lista = [\"expressão\" for \"elemento\" in \"sequência\" if \"condição\"]. \n",
    "\n",
    "Vejamos o código abaixo:"
   ]
  },
  {
   "cell_type": "code",
   "execution_count": 1,
   "metadata": {},
   "outputs": [],
   "source": [
    "cubos = []\n",
    "for elementos in range(10):\n",
    "    cubos.append(elementos**3)"
   ]
  },
  {
   "cell_type": "code",
   "execution_count": 2,
   "metadata": {},
   "outputs": [
    {
     "name": "stdout",
     "output_type": "stream",
     "text": [
      "[0, 1, 8, 27, 64, 125, 216, 343, 512, 729]\n"
     ]
    }
   ],
   "source": [
    "print(cubos)"
   ]
  },
  {
   "cell_type": "code",
   "execution_count": 4,
   "metadata": {},
   "outputs": [
    {
     "name": "stdout",
     "output_type": "stream",
     "text": [
      "[0, 1, 4, 9, 16, 25, 36, 49, 64, 81]\n"
     ]
    }
   ],
   "source": [
    "#Exemplo 1 - novo\n",
    "quadrados = []\n",
    "for n in range(10):\n",
    "    quadrados.append(n**2)\n",
    "print(quadrados)"
   ]
  },
  {
   "cell_type": "code",
   "execution_count": 7,
   "metadata": {},
   "outputs": [
    {
     "name": "stdout",
     "output_type": "stream",
     "text": [
      "[1, 2, 3, 4, 5, 6, 7, 8, 9, 10]\n"
     ]
    }
   ],
   "source": [
    "#exemplo 2\n",
    "seq=[]\n",
    "for m in range(0,10,1):\n",
    "    seq.append(m+1)\n",
    "print(seq)"
   ]
  },
  {
   "cell_type": "code",
   "execution_count": 10,
   "metadata": {},
   "outputs": [
    {
     "data": {
      "text/plain": [
       "[0, 2, 4, 6, 8, 10, 12, 14, 16, 18]"
      ]
     },
     "execution_count": 10,
     "metadata": {},
     "output_type": "execute_result"
    }
   ],
   "source": [
    "#exemplo 3\n",
    "seq=[]\n",
    "for n in [0,1,2,3,4,5,6,7,8,9]:\n",
    "    seq.append(2 * n)\n",
    "seq"
   ]
  },
  {
   "cell_type": "code",
   "execution_count": null,
   "metadata": {},
   "outputs": [],
   "source": []
  },
  {
   "cell_type": "markdown",
   "metadata": {},
   "source": [
    "Podemos reescrevê-lo de forma mais concisa utilizando a list comprehension:"
   ]
  },
  {
   "cell_type": "code",
   "execution_count": 3,
   "metadata": {},
   "outputs": [],
   "source": [
    "cubos2 = [elementos**3 for elementos in range(10)]"
   ]
  },
  {
   "cell_type": "code",
   "execution_count": 4,
   "metadata": {},
   "outputs": [
    {
     "name": "stdout",
     "output_type": "stream",
     "text": [
      "[0, 1, 8, 27, 64, 125, 216, 343, 512, 729]\n"
     ]
    }
   ],
   "source": [
    "print(cubos2)"
   ]
  },
  {
   "cell_type": "code",
   "execution_count": 12,
   "metadata": {},
   "outputs": [
    {
     "data": {
      "text/plain": [
       "[0, 2, 4, 6, 8, 10, 12, 14, 16, 18]"
      ]
     },
     "execution_count": 12,
     "metadata": {},
     "output_type": "execute_result"
    }
   ],
   "source": [
    "# exemplo\n",
    "quadrados = [2 * n for n in range(10)]\n",
    "quadrados"
   ]
  },
  {
   "cell_type": "code",
   "execution_count": null,
   "metadata": {},
   "outputs": [],
   "source": []
  },
  {
   "cell_type": "code",
   "execution_count": null,
   "metadata": {},
   "outputs": [],
   "source": []
  },
  {
   "cell_type": "markdown",
   "metadata": {},
   "source": [
    "A seguir temos mais um exemplo da conversão para a list comprehension:"
   ]
  },
  {
   "cell_type": "code",
   "execution_count": 8,
   "metadata": {},
   "outputs": [
    {
     "name": "stdout",
     "output_type": "stream",
     "text": [
      "156390386\n",
      "0.0013773441314697266\n"
     ]
    }
   ],
   "source": [
    "t0 = time.time()\n",
    "lista = []\n",
    "for x in range(1001):\n",
    "    if x%5==0 or x%3==0:\n",
    "        lista.append(x**2)\n",
    "print(sum(lista))\n",
    "print(time.time() - t0)"
   ]
  },
  {
   "cell_type": "code",
   "execution_count": 9,
   "metadata": {},
   "outputs": [
    {
     "name": "stdout",
     "output_type": "stream",
     "text": [
      "0.0009145736694335938\n"
     ]
    }
   ],
   "source": [
    "t0 = time.time()\n",
    "lc2 = [x**2 for x in range(1001) if x%5==0 or x%3==0]\n",
    "sum(lc2)\n",
    "print(time.time() - t0)"
   ]
  },
  {
   "cell_type": "code",
   "execution_count": 10,
   "metadata": {},
   "outputs": [
    {
     "data": {
      "text/plain": [
       "list"
      ]
     },
     "execution_count": 10,
     "metadata": {},
     "output_type": "execute_result"
    }
   ],
   "source": [
    "type(lc2)"
   ]
  },
  {
   "cell_type": "code",
   "execution_count": 20,
   "metadata": {},
   "outputs": [
    {
     "name": "stdout",
     "output_type": "stream",
     "text": [
      "[0, 27, 125, 216, 729, 1000, 1728, 3375, 5832, 8000, 9261, 13824, 15625, 19683, 27000, 35937, 42875, 46656, 59319, 64000, 74088, 91125, 110592, 125000, 132651, 157464, 166375, 185193, 216000, 250047, 274625, 287496, 328509, 343000, 373248, 421875, 474552, 512000, 531441, 592704, 614125, 658503, 729000, 804357, 857375, 884736, 970299]\n",
      "0\n",
      "27\n",
      "125\n",
      "216\n",
      "729\n",
      "1000\n",
      "1728\n",
      "3375\n",
      "5832\n",
      "8000\n",
      "9261\n",
      "13824\n",
      "15625\n",
      "19683\n",
      "27000\n",
      "35937\n",
      "42875\n",
      "46656\n",
      "59319\n",
      "64000\n",
      "74088\n",
      "91125\n",
      "110592\n",
      "125000\n",
      "132651\n",
      "157464\n",
      "166375\n",
      "185193\n",
      "216000\n",
      "250047\n",
      "274625\n",
      "287496\n",
      "328509\n",
      "343000\n",
      "373248\n",
      "421875\n",
      "474552\n",
      "512000\n",
      "531441\n",
      "592704\n",
      "614125\n",
      "658503\n",
      "729000\n",
      "804357\n",
      "857375\n",
      "884736\n",
      "970299\n",
      "11521592\n"
     ]
    }
   ],
   "source": [
    "#newexample\n",
    "\n",
    "list = []\n",
    "for x in range(100):\n",
    "    if x%5==0 or x%3==0:\n",
    "        list.append(x**3)\n",
    "print(list)\n",
    "\n",
    "for m in list:\n",
    "    print(m)\n",
    "\n",
    "print(sum(list))        "
   ]
  },
  {
   "cell_type": "code",
   "execution_count": 23,
   "metadata": {},
   "outputs": [
    {
     "name": "stdout",
     "output_type": "stream",
     "text": [
      "[0, 27, 125, 216, 729, 1000, 1728, 3375, 5832, 8000, 9261, 13824, 15625, 19683, 27000, 35937, 42875, 46656, 59319, 64000, 74088, 91125, 110592, 125000, 132651, 157464, 166375, 185193, 216000, 250047, 274625, 287496, 328509, 343000, 373248, 421875, 474552, 512000, 531441, 592704, 614125, 658503, 729000, 804357, 857375, 884736, 970299]\n"
     ]
    },
    {
     "data": {
      "text/plain": [
       "11521592"
      ]
     },
     "execution_count": 23,
     "metadata": {},
     "output_type": "execute_result"
    }
   ],
   "source": [
    "lc2 = [x**3 for x in range(100) if x%5==0 or x%3==0]\n",
    "print(lc2)\n",
    "sum(lc2)"
   ]
  },
  {
   "cell_type": "code",
   "execution_count": null,
   "metadata": {},
   "outputs": [],
   "source": []
  },
  {
   "cell_type": "code",
   "execution_count": null,
   "metadata": {},
   "outputs": [],
   "source": []
  },
  {
   "cell_type": "markdown",
   "metadata": {},
   "source": [
    "Outros exemplos:"
   ]
  },
  {
   "cell_type": "code",
   "execution_count": 11,
   "metadata": {},
   "outputs": [
    {
     "data": {
      "text/plain": [
       "range(0, 11)"
      ]
     },
     "execution_count": 11,
     "metadata": {},
     "output_type": "execute_result"
    }
   ],
   "source": [
    "sequencia = range(11)\n",
    "sequencia"
   ]
  },
  {
   "cell_type": "code",
   "execution_count": 12,
   "metadata": {},
   "outputs": [
    {
     "data": {
      "text/plain": [
       "[0, 1, 2, 3, 4, 5, 6, 7, 8, 9, 10]"
      ]
     },
     "execution_count": 12,
     "metadata": {},
     "output_type": "execute_result"
    }
   ],
   "source": [
    "list(sequencia)"
   ]
  },
  {
   "cell_type": "code",
   "execution_count": 13,
   "metadata": {},
   "outputs": [
    {
     "data": {
      "text/plain": [
       "[0, 4, 16, 36, 64, 100]"
      ]
     },
     "execution_count": 13,
     "metadata": {},
     "output_type": "execute_result"
    }
   ],
   "source": [
    "[elemento**2 for elemento in sequencia if elemento%2==0]"
   ]
  },
  {
   "cell_type": "code",
   "execution_count": 14,
   "metadata": {},
   "outputs": [
    {
     "data": {
      "text/plain": [
       "[13, 14, 11]"
      ]
     },
     "execution_count": 14,
     "metadata": {},
     "output_type": "execute_result"
    }
   ],
   "source": [
    "[x+y for x,y in [(9,4),(8,6),(2,9)]]"
   ]
  },
  {
   "cell_type": "code",
   "execution_count": 25,
   "metadata": {},
   "outputs": [
    {
     "name": "stdout",
     "output_type": "stream",
     "text": [
      "[5, 5, 5, 5]\n",
      "0.0004055500030517578\n"
     ]
    }
   ],
   "source": [
    "t0 = time.time()\n",
    "print([3+2 for numero in range(4)])\n",
    "print(time.time() - t0)"
   ]
  },
  {
   "cell_type": "code",
   "execution_count": 28,
   "metadata": {},
   "outputs": [
    {
     "name": "stdout",
     "output_type": "stream",
     "text": [
      "[5, 5, 5, 5]\n",
      "0.00036072731018066406\n"
     ]
    }
   ],
   "source": [
    "t0 = time.time()\n",
    "print(4 * [5])\n",
    "print(time.time() - t0)"
   ]
  },
  {
   "cell_type": "code",
   "execution_count": 29,
   "metadata": {},
   "outputs": [
    {
     "data": {
      "text/plain": [
       "[5, 9, 8]"
      ]
     },
     "execution_count": 29,
     "metadata": {},
     "output_type": "execute_result"
    }
   ],
   "source": [
    "minha_lista = [x + y for x,y in [(2,3),(4,5),(1,7)]]\n",
    "minha_lista"
   ]
  },
  {
   "cell_type": "code",
   "execution_count": 31,
   "metadata": {},
   "outputs": [
    {
     "data": {
      "text/plain": [
       "[1, 81, 0, 16]"
      ]
     },
     "execution_count": 31,
     "metadata": {},
     "output_type": "execute_result"
    }
   ],
   "source": [
    "lista = [1, \"4\", 9, \"a\", 0, 4]\n",
    "quadrado_inteiros = [i**2 for i in lista if type(i) == int]\n",
    "quadrado_inteiros"
   ]
  },
  {
   "cell_type": "markdown",
   "metadata": {},
   "source": [
    "##### Podemos fazer  uma list comprehension com múltiplos loops:\n",
    "\n",
    "Veja o código a seguir:"
   ]
  },
  {
   "cell_type": "code",
   "execution_count": 32,
   "metadata": {},
   "outputs": [
    {
     "name": "stdout",
     "output_type": "stream",
     "text": [
      "[(1, 3), (1, 4), (1, 5), (2, 3), (2, 4), (2, 5), (3, 4), (3, 5)]\n"
     ]
    }
   ],
   "source": [
    "pontos = []\n",
    "for x in [1,2,3]:\n",
    "    for y in [3,4,5]:\n",
    "        if x != y:\n",
    "            pontos.append((x,y))\n",
    "print(pontos)"
   ]
  },
  {
   "cell_type": "markdown",
   "metadata": {},
   "source": [
    "Podemos reescrevê-lo dessa forma:"
   ]
  },
  {
   "cell_type": "code",
   "execution_count": 33,
   "metadata": {},
   "outputs": [
    {
     "name": "stdout",
     "output_type": "stream",
     "text": [
      "[(1, 3), (1, 4), (1, 5), (2, 3), (2, 4), (2, 5), (3, 4), (3, 5)]\n"
     ]
    }
   ],
   "source": [
    "pontos = [(x,y) for x in [1,2,3] for y in [3,4,5] if x != y] # os loops serão postos, sem separação (somente um espaço), na mesma sequência do código original.\n",
    "print(pontos)"
   ]
  },
  {
   "cell_type": "markdown",
   "metadata": {},
   "source": [
    "#### Aplicando a list comprehension em listas de strings:"
   ]
  },
  {
   "cell_type": "markdown",
   "metadata": {},
   "source": [
    "##### Importando o pacote string"
   ]
  },
  {
   "cell_type": "code",
   "execution_count": 24,
   "metadata": {},
   "outputs": [],
   "source": [
    "import string"
   ]
  },
  {
   "cell_type": "code",
   "execution_count": 35,
   "metadata": {},
   "outputs": [
    {
     "data": {
      "text/plain": [
       "'!\"#$%&\\'()*+,-./:;<=>?@[\\\\]^_`{|}~'"
      ]
     },
     "execution_count": 35,
     "metadata": {},
     "output_type": "execute_result"
    }
   ],
   "source": [
    "string.punctuation #nos dá as pontuações."
   ]
  },
  {
   "cell_type": "code",
   "execution_count": 36,
   "metadata": {},
   "outputs": [
    {
     "data": {
      "text/plain": [
       "'0123456789'"
      ]
     },
     "execution_count": 36,
     "metadata": {},
     "output_type": "execute_result"
    }
   ],
   "source": [
    "string.digits #nos dá os números."
   ]
  },
  {
   "cell_type": "code",
   "execution_count": 37,
   "metadata": {},
   "outputs": [
    {
     "data": {
      "text/plain": [
       "'abcdefghijklmnopqrstuvwxyzABCDEFGHIJKLMNOPQRSTUVWXYZ'"
      ]
     },
     "execution_count": 37,
     "metadata": {},
     "output_type": "execute_result"
    }
   ],
   "source": [
    "string.ascii_letters #nos dá as letras do alfabeto (ordenadas) minúsculas e maiúsculas, nessa ordem."
   ]
  },
  {
   "cell_type": "code",
   "execution_count": 38,
   "metadata": {},
   "outputs": [
    {
     "data": {
      "text/plain": [
       "'abcdefghijklmnopqrstuvwxyz'"
      ]
     },
     "execution_count": 38,
     "metadata": {},
     "output_type": "execute_result"
    }
   ],
   "source": [
    "string.ascii_lowercase #somente as letras minúsculas."
   ]
  },
  {
   "cell_type": "code",
   "execution_count": 39,
   "metadata": {},
   "outputs": [
    {
     "data": {
      "text/plain": [
       "'ABCDEFGHIJKLMNOPQRSTUVWXYZ'"
      ]
     },
     "execution_count": 39,
     "metadata": {},
     "output_type": "execute_result"
    }
   ],
   "source": [
    "string.ascii_uppercase #somente as letras maiúsculas."
   ]
  },
  {
   "cell_type": "code",
   "execution_count": 40,
   "metadata": {},
   "outputs": [
    {
     "data": {
      "text/plain": [
       "'0123456789abcdefABCDEF'"
      ]
     },
     "execution_count": 40,
     "metadata": {},
     "output_type": "execute_result"
    }
   ],
   "source": [
    "string.hexdigits #nos d´s os dígitos hexadecimais."
   ]
  },
  {
   "cell_type": "markdown",
   "metadata": {},
   "source": [
    "Agora que já conhecemos brevemente o pacote string, vamos aplicar a list comprehension: "
   ]
  },
  {
   "cell_type": "code",
   "execution_count": 27,
   "metadata": {},
   "outputs": [],
   "source": [
    "my_string = 'Uma string. Escrevi! Vocês duvidam? Claro, tem que ver para crer'"
   ]
  },
  {
   "cell_type": "code",
   "execution_count": 28,
   "metadata": {},
   "outputs": [
    {
     "data": {
      "text/plain": [
       "['Uma',\n",
       " 'string.',\n",
       " 'Escrevi!',\n",
       " 'Vocês',\n",
       " 'duvidam?',\n",
       " 'Claro,',\n",
       " 'tem',\n",
       " 'que',\n",
       " 'ver',\n",
       " 'para',\n",
       " 'crer']"
      ]
     },
     "execution_count": 28,
     "metadata": {},
     "output_type": "execute_result"
    }
   ],
   "source": [
    "my_string.split() #O .split() \"quebrará\" a string nos seus espaços criando uma lista, e cada \"parte\" corresponderá a um elemento."
   ]
  },
  {
   "cell_type": "code",
   "execution_count": 29,
   "metadata": {},
   "outputs": [
    {
     "data": {
      "text/plain": [
       "['O',\n",
       " 'abacate',\n",
       " 'é',\n",
       " 'VERDE!!!',\n",
       " 'Chamem',\n",
       " 'algum',\n",
       " 'pintor',\n",
       " 'para',\n",
       " 'colorir',\n",
       " 'essa',\n",
       " 'fruta',\n",
       " 'com',\n",
       " 'outra',\n",
       " 'cor',\n",
       " 'mais',\n",
       " 'vibrante,',\n",
       " 'tá',\n",
       " 'ok?']"
      ]
     },
     "execution_count": 29,
     "metadata": {},
     "output_type": "execute_result"
    }
   ],
   "source": [
    "#exemplo\n",
    "\n",
    "texto=\"O Brasil precisa de paz e de DEUS!!!\"\n",
    "texto.split()\n",
    "\n",
    "text= 'O abacate é VERDE!!! Chamem algum pintor para colorir essa fruta com outra cor mais vibrante, tá ok?'\n",
    "text.split()"
   ]
  },
  {
   "cell_type": "markdown",
   "metadata": {},
   "source": [
    "Usando a list comprehension"
   ]
  },
  {
   "cell_type": "code",
   "execution_count": 43,
   "metadata": {},
   "outputs": [
    {
     "data": {
      "text/plain": [
       "['Uma',\n",
       " 'string.',\n",
       " 'Escrevi!',\n",
       " 'Vocês',\n",
       " 'duvidam?',\n",
       " 'Claro,',\n",
       " 'tem',\n",
       " 'que',\n",
       " 'ver',\n",
       " 'para',\n",
       " 'crer']"
      ]
     },
     "execution_count": 43,
     "metadata": {},
     "output_type": "execute_result"
    }
   ],
   "source": [
    "[token for token in my_string.split()]"
   ]
  },
  {
   "cell_type": "code",
   "execution_count": 44,
   "metadata": {},
   "outputs": [
    {
     "data": {
      "text/plain": [
       "['uma',\n",
       " 'string.',\n",
       " 'escrevi!',\n",
       " 'vocês',\n",
       " 'duvidam?',\n",
       " 'claro,',\n",
       " 'tem',\n",
       " 'que',\n",
       " 'ver',\n",
       " 'para',\n",
       " 'crer']"
      ]
     },
     "execution_count": 44,
     "metadata": {},
     "output_type": "execute_result"
    }
   ],
   "source": [
    "[token.lower() for token in my_string.split()] #.lower() passará todas as letras maiúsculas para minúsculas."
   ]
  },
  {
   "cell_type": "code",
   "execution_count": 45,
   "metadata": {},
   "outputs": [
    {
     "data": {
      "text/plain": [
       "['Uma',\n",
       " 'string',\n",
       " 'Escrevi',\n",
       " 'Vocês',\n",
       " 'duvidam',\n",
       " 'Claro',\n",
       " 'tem',\n",
       " 'que',\n",
       " 'ver',\n",
       " 'para',\n",
       " 'crer']"
      ]
     },
     "execution_count": 45,
     "metadata": {},
     "output_type": "execute_result"
    }
   ],
   "source": [
    "[token.strip(string.punctuation) for token in my_string.split()] #.strip(x) retirará da lista, no caso a lista token, os elementos de x, que aqui são as pontuações."
   ]
  },
  {
   "cell_type": "code",
   "execution_count": 49,
   "metadata": {},
   "outputs": [
    {
     "data": {
      "text/plain": [
       "'.pala.vra'"
      ]
     },
     "execution_count": 49,
     "metadata": {},
     "output_type": "execute_result"
    }
   ],
   "source": [
    "'.pala.vra.'.rstrip('.')"
   ]
  },
  {
   "cell_type": "code",
   "execution_count": 51,
   "metadata": {},
   "outputs": [
    {
     "data": {
      "text/plain": [
       "['uma',\n",
       " 'string',\n",
       " 'escrevi',\n",
       " 'vocês',\n",
       " 'duvidam',\n",
       " 'claro',\n",
       " 'tem',\n",
       " 'que',\n",
       " 'ver',\n",
       " 'para',\n",
       " 'crer']"
      ]
     },
     "execution_count": 51,
     "metadata": {},
     "output_type": "execute_result"
    }
   ],
   "source": [
    "[token.lower().strip(string.punctuation) for token in my_string.split()]"
   ]
  },
  {
   "cell_type": "code",
   "execution_count": 37,
   "metadata": {},
   "outputs": [
    {
     "data": {
      "text/plain": [
       "['O', 'Brasil', 'precisa', 'de', 'paz', 'e', 'de', 'DEUS!!!']"
      ]
     },
     "execution_count": 37,
     "metadata": {},
     "output_type": "execute_result"
    }
   ],
   "source": [
    "#Tudo é exemplo\n",
    "[n for n in texto.split()]"
   ]
  },
  {
   "cell_type": "code",
   "execution_count": 31,
   "metadata": {},
   "outputs": [
    {
     "data": {
      "text/plain": [
       "['O', 'BRASIL', 'PRECISA', 'DE', 'PAZ', 'E', 'DE', 'DEUS!!!']"
      ]
     },
     "execution_count": 31,
     "metadata": {},
     "output_type": "execute_result"
    }
   ],
   "source": [
    "[m.upper() for m in texto.split()]"
   ]
  },
  {
   "cell_type": "code",
   "execution_count": 33,
   "metadata": {},
   "outputs": [
    {
     "data": {
      "text/plain": [
       "['O', 'Brasil', 'precisa', 'de', 'paz', 'e', 'de', 'DEUS']"
      ]
     },
     "execution_count": 33,
     "metadata": {},
     "output_type": "execute_result"
    }
   ],
   "source": [
    "[m.rstrip(\"!!!\") for m in texto.split()]"
   ]
  },
  {
   "cell_type": "code",
   "execution_count": 36,
   "metadata": {},
   "outputs": [
    {
     "data": {
      "text/plain": [
       "['O', 'Brasil', 'precisa', 'de', 'paz', 'e', 'de', 'DEUS']"
      ]
     },
     "execution_count": 36,
     "metadata": {},
     "output_type": "execute_result"
    }
   ],
   "source": [
    "[s.strip(string.punctuation) for s in texto.split()]"
   ]
  },
  {
   "cell_type": "code",
   "execution_count": 39,
   "metadata": {},
   "outputs": [
    {
     "data": {
      "text/plain": [
       "['O', 'BRASIL', 'PRECISA', 'DE', 'PAZ', 'E', 'DE', 'DEUS']"
      ]
     },
     "execution_count": 39,
     "metadata": {},
     "output_type": "execute_result"
    }
   ],
   "source": [
    "[t.upper().strip(string.punctuation) for t in texto.split()]"
   ]
  },
  {
   "cell_type": "markdown",
   "metadata": {},
   "source": [
    "## 2) Set Comprehension:\n"
   ]
  },
  {
   "cell_type": "markdown",
   "metadata": {},
   "source": [
    "As set comprehensions permitem que conjuntos sejam construídos usando os mesmos princípios que as compreensões de lista, a única diferença é que a seqüência resultante é um conjunto.\n",
    "\n",
    "Seguiremos o modelo, apenas trocando os colchetes (da list comprehension) por chaves: conjunto = {\"expressão\" for \"elemento\" in \"sequência\" if \"condição\"}.\n",
    "\n",
    "Vejamos o exemplo abaixo:"
   ]
  },
  {
   "cell_type": "code",
   "execution_count": 42,
   "metadata": {},
   "outputs": [
    {
     "name": "stdout",
     "output_type": "stream",
     "text": [
      "{0, 1, 4, 9, 16}\n"
     ]
    }
   ],
   "source": [
    "quadrados = {i**2 for i in range(5)}\n",
    "print(quadrados)"
   ]
  },
  {
   "cell_type": "code",
   "execution_count": 45,
   "metadata": {},
   "outputs": [
    {
     "name": "stdout",
     "output_type": "stream",
     "text": [
      "{0, 1, 512, 4096, 13824, 32768, 64000, 262144, 8, 373248, 804357, 357911, 27, 195112, 132651, 9261, 97336, 970299, 314432, 64, 46656, 205379, 658503, 125000, 54872, 29791, 35937, 830584, 125, 512000, 941192, 79507, 2197, 636056, 226981, 17576, 2744, 250047, 1728, 85184, 274625, 438976, 5832, 6859, 216, 729, 300763, 19683, 405224, 614125, 238328, 287496, 15625, 157464, 857375, 912673, 3375, 4913, 681472, 1331, 68921, 328509, 592704, 8000, 140608, 24389, 456533, 343, 884736, 74088, 185193, 175616, 27000, 42875, 110592, 12167, 39304, 571787, 148877, 103823, 117649, 10648, 389017, 753571, 729000, 59319, 474552, 216000, 21952, 778688, 551368, 704969, 343000, 50653, 166375, 1000, 493039, 531441, 421875, 91125}\n"
     ]
    }
   ],
   "source": [
    "#exemplo\n",
    "cubos={i**3 for i in range(100)}\n",
    "print(cubos)"
   ]
  },
  {
   "cell_type": "code",
   "execution_count": 53,
   "metadata": {},
   "outputs": [
    {
     "name": "stdout",
     "output_type": "stream",
     "text": [
      "{'v', 'c', 'r', 'd', 's'}\n"
     ]
    }
   ],
   "source": [
    "consoantes = {letra for letra in 'cursodeverao' if letra not in \"aeiou\" }\n",
    "print(consoantes)"
   ]
  },
  {
   "cell_type": "code",
   "execution_count": 54,
   "metadata": {},
   "outputs": [
    {
     "name": "stdout",
     "output_type": "stream",
     "text": [
      "{'o', 'e'}\n"
     ]
    }
   ],
   "source": [
    "vogais = {letra for letra in \"pythonlovers\" if letra in \"aeiou\"}\n",
    "print(vogais)"
   ]
  },
  {
   "cell_type": "code",
   "execution_count": 47,
   "metadata": {},
   "outputs": [
    {
     "name": "stdout",
     "output_type": "stream",
     "text": [
      "{',', 'i', 'D', '!', 'e', 'l', 'm', 'c', 'r', 't', 's', 'u', 'B', 'd', ' '}\n"
     ]
    }
   ],
   "source": [
    "#exemplo\n",
    "lcs={n for n in \"Brasil acima de tudo, Deus acima de todos!!!\" if n not in \"ao\"}\n",
    "print(lcs)\n"
   ]
  },
  {
   "cell_type": "markdown",
   "metadata": {},
   "source": [
    "## 3) Dict Comprehension"
   ]
  },
  {
   "cell_type": "markdown",
   "metadata": {},
   "source": [
    "Podemos escrever dicionários de sucinta usando dict comprehension. Devemos tomar cuidado pois o dicionário distingue letras maiúsculas de minúsculas.\n",
    "\n",
    "Usamos o modelo: dicionario = {'elemento' : 'operação' for 'elemento' in 'sequência' if 'condição'}\n",
    "\n",
    "Vejamos os seguintes exemplos:"
   ]
  },
  {
   "cell_type": "code",
   "execution_count": 55,
   "metadata": {},
   "outputs": [
    {
     "name": "stdout",
     "output_type": "stream",
     "text": [
      "{0: 0, 1: 1, 2: 4, 3: 9}\n"
     ]
    }
   ],
   "source": [
    "quadrado = {x:x**2 for x in range(4)}\n",
    "print(quadrado)"
   ]
  },
  {
   "cell_type": "code",
   "execution_count": 48,
   "metadata": {},
   "outputs": [
    {
     "name": "stdout",
     "output_type": "stream",
     "text": [
      "{0: 0, 1: 1, 2: 8, 3: 27, 4: 64, 5: 125, 6: 216, 7: 343, 8: 512, 9: 729, 10: 1000, 11: 1331, 12: 1728, 13: 2197, 14: 2744, 15: 3375, 16: 4096, 17: 4913, 18: 5832, 19: 6859, 20: 8000, 21: 9261, 22: 10648, 23: 12167, 24: 13824, 25: 15625, 26: 17576, 27: 19683, 28: 21952, 29: 24389, 30: 27000, 31: 29791, 32: 32768, 33: 35937, 34: 39304, 35: 42875, 36: 46656, 37: 50653, 38: 54872, 39: 59319, 40: 64000, 41: 68921, 42: 74088, 43: 79507, 44: 85184, 45: 91125, 46: 97336, 47: 103823, 48: 110592, 49: 117649, 50: 125000, 51: 132651, 52: 140608, 53: 148877, 54: 157464, 55: 166375, 56: 175616, 57: 185193, 58: 195112, 59: 205379, 60: 216000, 61: 226981, 62: 238328, 63: 250047, 64: 262144, 65: 274625, 66: 287496, 67: 300763, 68: 314432, 69: 328509, 70: 343000, 71: 357911, 72: 373248, 73: 389017, 74: 405224, 75: 421875, 76: 438976, 77: 456533, 78: 474552, 79: 493039, 80: 512000, 81: 531441, 82: 551368, 83: 571787, 84: 592704, 85: 614125, 86: 636056, 87: 658503, 88: 681472, 89: 704969, 90: 729000, 91: 753571, 92: 778688, 93: 804357, 94: 830584, 95: 857375, 96: 884736, 97: 912673, 98: 941192, 99: 970299}\n"
     ]
    }
   ],
   "source": [
    "#exemplo\n",
    "\n",
    "cubo = {y: y**3 for y in range(100)}\n",
    "print(cubo)"
   ]
  },
  {
   "cell_type": "code",
   "execution_count": 56,
   "metadata": {},
   "outputs": [
    {
     "data": {
      "text/plain": [
       "{'primeiro': 1, 'segundo': 2}"
      ]
     },
     "execution_count": 56,
     "metadata": {},
     "output_type": "execute_result"
    }
   ],
   "source": [
    "d0 = {x:y for x,y in [('primeiro',1),('segundo',2)]}\n",
    "d0"
   ]
  },
  {
   "cell_type": "code",
   "execution_count": 50,
   "metadata": {},
   "outputs": [
    {
     "data": {
      "text/plain": [
       "{'primeiro': 7, 'segundo': 9}"
      ]
     },
     "execution_count": 50,
     "metadata": {},
     "output_type": "execute_result"
    }
   ],
   "source": [
    "#exemplo\n",
    "\n",
    "s={x:y for x,y in [('primeiro', 7), ('segundo', 9)]}\n",
    "s"
   ]
  },
  {
   "cell_type": "code",
   "execution_count": 59,
   "metadata": {},
   "outputs": [
    {
     "name": "stdout",
     "output_type": "stream",
     "text": [
      "{'UM': 1, 'TRES': 3, 'DOIS': 2}\n",
      "0.0004951953887939453\n"
     ]
    }
   ],
   "source": [
    "t0 = time.time()\n",
    "d1 = {x.upper():y for x,y in [('um',1),('dois',2),('tres',3)]}\n",
    "print(d1)\n",
    "print(time.time() - t0)"
   ]
  },
  {
   "cell_type": "code",
   "execution_count": 60,
   "metadata": {},
   "outputs": [
    {
     "name": "stdout",
     "output_type": "stream",
     "text": [
      "{'um': 1, 'dois': 2, 'tres': 3}\n",
      "0.0008649826049804688\n"
     ]
    }
   ],
   "source": [
    "t0 = time.time()\n",
    "d2 = dict([('um',1),('dois',2),('tres',3)])\n",
    "print(d2)\n",
    "print(time.time() - t0)"
   ]
  },
  {
   "cell_type": "code",
   "execution_count": 66,
   "metadata": {},
   "outputs": [
    {
     "data": {
      "text/plain": [
       "{0: 1, 2: 3, 4: 5, 6: 7}"
      ]
     },
     "execution_count": 66,
     "metadata": {},
     "output_type": "execute_result"
    }
   ],
   "source": [
    "{x:y for x,y in zip(range(0,7,2), range(1,8,2))}"
   ]
  },
  {
   "cell_type": "code",
   "execution_count": 67,
   "metadata": {},
   "outputs": [
    {
     "data": {
      "text/plain": [
       "{'DOIS': 2, 'TRES': 3, 'UM': 1}"
      ]
     },
     "execution_count": 67,
     "metadata": {},
     "output_type": "execute_result"
    }
   ],
   "source": [
    "d3 = {chave.upper():valor for chave, valor in d2.items()}\n",
    "d3"
   ]
  },
  {
   "cell_type": "code",
   "execution_count": 71,
   "metadata": {},
   "outputs": [
    {
     "name": "stdout",
     "output_type": "stream",
     "text": [
      "dict_items([('um', 1), ('dois', 2)])\n"
     ]
    },
    {
     "data": {
      "text/plain": [
       "{1: 'um', 2: 'dois'}"
      ]
     },
     "execution_count": 71,
     "metadata": {},
     "output_type": "execute_result"
    }
   ],
   "source": [
    "dicionario = {'um':1, 'dois':2}\n",
    "print(dicionario.items())\n",
    "{valor:chave for chave,valor in dicionario.items()}"
   ]
  },
  {
   "cell_type": "code",
   "execution_count": 72,
   "metadata": {},
   "outputs": [
    {
     "data": {
      "text/plain": [
       "dict_items([('UM', 1), ('TRES', 3), ('DOIS', 2)])"
      ]
     },
     "execution_count": 72,
     "metadata": {},
     "output_type": "execute_result"
    }
   ],
   "source": [
    "d3.items()"
   ]
  },
  {
   "cell_type": "code",
   "execution_count": 73,
   "metadata": {},
   "outputs": [
    {
     "data": {
      "text/plain": [
       "{'DOIS': 3, 'TRES': 4, 'UM': 2}"
      ]
     },
     "execution_count": 73,
     "metadata": {},
     "output_type": "execute_result"
    }
   ],
   "source": [
    "d4 = {chave:valor+1 for chave,valor in d3.items()}\n",
    "d4"
   ]
  },
  {
   "cell_type": "code",
   "execution_count": 74,
   "metadata": {},
   "outputs": [
    {
     "name": "stdout",
     "output_type": "stream",
     "text": [
      "('UM', 2)\n",
      "('TRES', 4)\n",
      "('DOIS', 3)\n"
     ]
    }
   ],
   "source": [
    "for alguma_coisa in d4.items():\n",
    "    print(alguma_coisa)"
   ]
  },
  {
   "cell_type": "code",
   "execution_count": 75,
   "metadata": {},
   "outputs": [
    {
     "data": {
      "text/plain": [
       "{1: 7, 2: 3, 4: 5}"
      ]
     },
     "execution_count": 75,
     "metadata": {},
     "output_type": "execute_result"
    }
   ],
   "source": [
    "{chave:valor for chave,valor in [(2,3),(4,5),(1,7)]}"
   ]
  },
  {
   "cell_type": "code",
   "execution_count": 76,
   "metadata": {},
   "outputs": [],
   "source": [
    "disciplinas = ['Cálculo', 'IntroComp', 'ModelagemII']\n",
    "notas = [8,8.5,9]"
   ]
  },
  {
   "cell_type": "code",
   "execution_count": 77,
   "metadata": {},
   "outputs": [
    {
     "data": {
      "text/plain": [
       "{'Cálculo': 8, 'IntroComp': 8.5, 'ModelagemII': 9}"
      ]
     },
     "execution_count": 77,
     "metadata": {},
     "output_type": "execute_result"
    }
   ],
   "source": [
    "{disciplina:nota for disciplina,nota in zip(disciplinas, notas)}"
   ]
  },
  {
   "cell_type": "code",
   "execution_count": null,
   "metadata": {},
   "outputs": [],
   "source": []
  }
 ],
 "metadata": {
  "kernelspec": {
   "display_name": "Python 3",
   "language": "python",
   "name": "python3"
  },
  "language_info": {
   "codemirror_mode": {
    "name": "ipython",
    "version": 3
   },
   "file_extension": ".py",
   "mimetype": "text/x-python",
   "name": "python",
   "nbconvert_exporter": "python",
   "pygments_lexer": "ipython3",
   "version": "3.5.2"
  }
 },
 "nbformat": 4,
 "nbformat_minor": 2
}
