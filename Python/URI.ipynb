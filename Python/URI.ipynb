{
 "cells": [
  {
   "cell_type": "markdown",
   "metadata": {},
   "source": [
    "+ ## PROBLEMAS DO URI"
   ]
  },
  {
   "cell_type": "markdown",
   "metadata": {},
   "source": [
    "# Manipulação de textos\n",
    "# URI\n",
    "# Project Euler\n",
    "# Matemática\n",
    "# Classes\n",
    "# Operações de texto\n",
    "# Matplotlib"
   ]
  },
  {
   "cell_type": "code",
   "execution_count": null,
   "metadata": {},
   "outputs": [],
   "source": []
  },
  {
   "cell_type": "code",
   "execution_count": null,
   "metadata": {},
   "outputs": [],
   "source": []
  },
  {
   "cell_type": "code",
   "execution_count": null,
   "metadata": {},
   "outputs": [],
   "source": []
  },
  {
   "cell_type": "markdown",
   "metadata": {},
   "source": [
    "+ # 1001"
   ]
  },
  {
   "cell_type": "code",
   "execution_count": 1,
   "metadata": {},
   "outputs": [
    {
     "name": "stdout",
     "output_type": "stream",
     "text": [
      "3\n",
      "4\n",
      "X = 7\n"
     ]
    }
   ],
   "source": [
    "A=eval(input())\n",
    "B=eval(input())\n",
    "X=A+B\n",
    "print(\"X = {}\".format(X))\n",
    "\n"
   ]
  },
  {
   "cell_type": "markdown",
   "metadata": {},
   "source": [
    "+ # 1002"
   ]
  },
  {
   "cell_type": "code",
   "execution_count": 12,
   "metadata": {},
   "outputs": [
    {
     "name": "stdout",
     "output_type": "stream",
     "text": [
      "2\n",
      "A=12.5664\n"
     ]
    }
   ],
   "source": [
    "raio=eval(input())\n",
    "pi=3.14159\n",
    "\n",
    "area=pi*raio*raio \n",
    "print(\"A={:.4f}\".format(area)) #O comando limit o número de casas decimais após a vírgula (4, nesse caso)."
   ]
  },
  {
   "cell_type": "code",
   "execution_count": 18,
   "metadata": {},
   "outputs": [
    {
     "name": "stdout",
     "output_type": "stream",
     "text": [
      "677\n",
      "A=1439883.0193271562\n"
     ]
    }
   ],
   "source": [
    "#Modificação do problema!!!\n",
    "import math\n",
    "raio=eval(input())\n",
    "c=math.pi\n",
    "\n",
    "area=c*raio*raio \n",
    "print(\"A={}\".format(area))"
   ]
  },
  {
   "cell_type": "markdown",
   "metadata": {},
   "source": [
    "+ # 1003"
   ]
  },
  {
   "cell_type": "code",
   "execution_count": 3,
   "metadata": {},
   "outputs": [
    {
     "name": "stdout",
     "output_type": "stream",
     "text": [
      "3\n",
      "2\n",
      "SOMA = 5\n"
     ]
    }
   ],
   "source": [
    "A=eval(input())\n",
    "B=eval(input())\n",
    "\n",
    "SOMA=A+B\n",
    "print(\"SOMA = {}\".format(SOMA))"
   ]
  },
  {
   "cell_type": "markdown",
   "metadata": {},
   "source": [
    "+ # 1004"
   ]
  },
  {
   "cell_type": "code",
   "execution_count": 2,
   "metadata": {},
   "outputs": [
    {
     "name": "stdout",
     "output_type": "stream",
     "text": [
      "3\n",
      "7\n",
      "PROD = 21\n"
     ]
    }
   ],
   "source": [
    "A=eval(input())\n",
    "B=eval(input())\n",
    "\n",
    "PROD = A * B\n",
    "print(\"PROD = {}\".format(PROD))"
   ]
  },
  {
   "cell_type": "markdown",
   "metadata": {},
   "source": [
    "+ # 1005"
   ]
  },
  {
   "cell_type": "code",
   "execution_count": 13,
   "metadata": {},
   "outputs": [
    {
     "name": "stdout",
     "output_type": "stream",
     "text": [
      "3\n",
      "2\n",
      "MEDIA = 2.31818\n"
     ]
    }
   ],
   "source": [
    "A=float(input())\n",
    "B=float(input())\n",
    "\n",
    "MEDIA = (A * 3.5 + B * 7.5)/11\n",
    "print(\"MEDIA = {:.5f}\".format(MEDIA))"
   ]
  },
  {
   "cell_type": "markdown",
   "metadata": {},
   "source": [
    "+ # 1006"
   ]
  },
  {
   "cell_type": "code",
   "execution_count": 17,
   "metadata": {},
   "outputs": [
    {
     "name": "stdout",
     "output_type": "stream",
     "text": [
      "5\n",
      "6\n",
      "7\n",
      "MEDIA = 6.3\n"
     ]
    }
   ],
   "source": [
    "A=float(input())\n",
    "B=float(input())\n",
    "C=float(input())\n",
    "\n",
    "MEDIA = (A * 2 + B * 3 + C * 5)/10\n",
    "print (\"MEDIA = {:.1f}\".format(MEDIA))"
   ]
  },
  {
   "cell_type": "markdown",
   "metadata": {},
   "source": [
    "+ # 1007"
   ]
  },
  {
   "cell_type": "code",
   "execution_count": 21,
   "metadata": {},
   "outputs": [
    {
     "name": "stdout",
     "output_type": "stream",
     "text": [
      "4\n",
      "5\n",
      "3\n",
      "5\n",
      "DIFERENCA = 5\n"
     ]
    }
   ],
   "source": [
    "A=int(input())\n",
    "B=int(input())\n",
    "C=int(input())\n",
    "D=int(input())\n",
    "\n",
    "DIFERENCA = (A * B - C * D)\n",
    "print(\"DIFERENCA = {}\".format(DIFERENCA))"
   ]
  },
  {
   "cell_type": "markdown",
   "metadata": {},
   "source": [
    "+ # 1008"
   ]
  },
  {
   "cell_type": "code",
   "execution_count": 26,
   "metadata": {},
   "outputs": [
    {
     "name": "stdout",
     "output_type": "stream",
     "text": [
      "25\n",
      "100\n",
      "5.50\n",
      "NUMBER = 25\n",
      "SALARY = U$ 550.00\n"
     ]
    }
   ],
   "source": [
    "A=int(input())\n",
    "B=int(input())\n",
    "C=float(input())\n",
    "\n",
    "\n",
    "SALARY=B*C\n",
    "print(\"NUMBER = {}\".format(A))\n",
    "print(\"SALARY = U$ {:.2f}\".format(SALARY))"
   ]
  },
  {
   "cell_type": "markdown",
   "metadata": {},
   "source": [
    "+ # 1009"
   ]
  },
  {
   "cell_type": "code",
   "execution_count": 38,
   "metadata": {},
   "outputs": [
    {
     "name": "stdout",
     "output_type": "stream",
     "text": [
      "Joao\n",
      "500\n",
      "1230.30\n",
      "TOTAL = R$ 684.54\n"
     ]
    }
   ],
   "source": [
    "A=str(input())\n",
    "B=float(input())\n",
    "C=float(input())\n",
    "\n",
    "TOTAL=(B + 0.15 * C)\n",
    "print(\"TOTAL = R$ {:.2f}\".format(TOTAL))"
   ]
  },
  {
   "cell_type": "markdown",
   "metadata": {},
   "source": [
    "+ # 1010"
   ]
  },
  {
   "cell_type": "code",
   "execution_count": 48,
   "metadata": {},
   "outputs": [
    {
     "name": "stdout",
     "output_type": "stream",
     "text": [
      "12\n",
      "1\n",
      "5.30\n",
      "16\n",
      "2\n",
      "5.10\n",
      "VALOR A PAGAR: R$ 15.50\n"
     ]
    }
   ],
   "source": [
    "A=int(input()) \n",
    "B=int(input()) \n",
    "C=float(input())\n",
    "D=int(input()) \n",
    "E=int(input()) \n",
    "F=float(input())\n",
    "\n",
    "G=(B*C + E*F)\n",
    "print(\"VALOR A PAGAR: R$ {:.2f}\".format(G))\n",
    "\n"
   ]
  },
  {
   "cell_type": "markdown",
   "metadata": {},
   "source": [
    "+ # 1011"
   ]
  },
  {
   "cell_type": "code",
   "execution_count": 51,
   "metadata": {},
   "outputs": [
    {
     "name": "stdout",
     "output_type": "stream",
     "text": [
      "3\n",
      "VOLUME = 113.097\n"
     ]
    }
   ],
   "source": [
    "R=eval(input())\n",
    "pi=3.14159\n",
    "V = 4/3*pi*R**3\n",
    "\n",
    "print(\"VOLUME = {:.3f}\".format(V))"
   ]
  },
  {
   "cell_type": "markdown",
   "metadata": {},
   "source": [
    "+ # 1012"
   ]
  },
  {
   "cell_type": "code",
   "execution_count": 52,
   "metadata": {},
   "outputs": [
    {
     "name": "stdout",
     "output_type": "stream",
     "text": [
      "3\n",
      "4\n",
      "5.2\n",
      "TRIANGULO: 7.800\n",
      "CIRCULO: 84.949\n",
      "TRAPEZIO: 18.200\n",
      "QUADRADO: 16.000\n",
      "RETANGULO: 12.000\n"
     ]
    }
   ],
   "source": [
    "A=float(input())\n",
    "B=float(input())\n",
    "C=float(input())\n",
    "pi=3.14159\n",
    "\n",
    "TRI=(A*C)/2\n",
    "CIRC=pi*C**2\n",
    "TRA=((A+B)*C)/2\n",
    "QUAD=B**2\n",
    "RET=A*B\n",
    "\n",
    "print(\"TRIANGULO: {:.3f}\".format(TRI))\n",
    "print(\"CIRCULO: {:.3f}\".format(CIRC))\n",
    "print(\"TRAPEZIO: {:.3f}\".format(TRA))\n",
    "print(\"QUADRADO: {:.3f}\".format(QUAD))\n",
    "print(\"RETANGULO: {:.3f}\".format(RET))"
   ]
  },
  {
   "cell_type": "markdown",
   "metadata": {},
   "source": [
    "+ # 1013"
   ]
  },
  {
   "cell_type": "code",
   "execution_count": 62,
   "metadata": {},
   "outputs": [
    {
     "name": "stdout",
     "output_type": "stream",
     "text": [
      "130\n",
      "23\n",
      "1578\n",
      "1578.0 eh o maior\n"
     ]
    }
   ],
   "source": [
    "a=eval(input())\n",
    "b=eval(input())\n",
    "c=eval(input())\n",
    "\n",
    "M=((a+b+abs(a-b))/2)\n",
    "MaiorABC=((M+c+abs(M-c))/2)\n",
    "print(\"{} eh o maior\".format(MaiorABC))"
   ]
  },
  {
   "cell_type": "code",
   "execution_count": null,
   "metadata": {},
   "outputs": [],
   "source": []
  },
  {
   "cell_type": "code",
   "execution_count": null,
   "metadata": {},
   "outputs": [],
   "source": []
  },
  {
   "cell_type": "code",
   "execution_count": null,
   "metadata": {},
   "outputs": [],
   "source": []
  },
  {
   "cell_type": "code",
   "execution_count": null,
   "metadata": {},
   "outputs": [],
   "source": []
  },
  {
   "cell_type": "code",
   "execution_count": null,
   "metadata": {},
   "outputs": [],
   "source": []
  },
  {
   "cell_type": "code",
   "execution_count": null,
   "metadata": {},
   "outputs": [],
   "source": []
  },
  {
   "cell_type": "code",
   "execution_count": null,
   "metadata": {},
   "outputs": [],
   "source": []
  },
  {
   "cell_type": "code",
   "execution_count": null,
   "metadata": {},
   "outputs": [],
   "source": []
  },
  {
   "cell_type": "code",
   "execution_count": null,
   "metadata": {},
   "outputs": [],
   "source": []
  },
  {
   "cell_type": "code",
   "execution_count": null,
   "metadata": {},
   "outputs": [],
   "source": []
  }
 ],
 "metadata": {
  "kernelspec": {
   "display_name": "Python 3",
   "language": "python",
   "name": "python3"
  },
  "language_info": {
   "codemirror_mode": {
    "name": "ipython",
    "version": 3
   },
   "file_extension": ".py",
   "mimetype": "text/x-python",
   "name": "python",
   "nbconvert_exporter": "python",
   "pygments_lexer": "ipython3",
   "version": "3.5.2"
  }
 },
 "nbformat": 4,
 "nbformat_minor": 2
}
