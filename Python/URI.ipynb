{
 "cells": [
  {
   "cell_type": "markdown",
   "metadata": {},
   "source": [
    "+ ## PROBLEMAS DO URI"
   ]
  },
  {
   "cell_type": "markdown",
   "metadata": {},
   "source": [
    "+ # 1001"
   ]
  },
  {
   "cell_type": "code",
   "execution_count": 1,
   "metadata": {},
   "outputs": [
    {
     "name": "stdout",
     "output_type": "stream",
     "text": [
      "3\n",
      "4\n",
      "X = 7\n"
     ]
    }
   ],
   "source": [
    "A=eval(input())\n",
    "B=eval(input())\n",
    "X=A+B\n",
    "print(\"X = {}\".format(X))\n",
    "\n"
   ]
  },
  {
   "cell_type": "markdown",
   "metadata": {},
   "source": [
    "+ # 1002"
   ]
  },
  {
   "cell_type": "code",
   "execution_count": 12,
   "metadata": {},
   "outputs": [
    {
     "name": "stdout",
     "output_type": "stream",
     "text": [
      "2\n",
      "A=12.5664\n"
     ]
    }
   ],
   "source": [
    "raio=eval(input())\n",
    "pi=3.14159\n",
    "\n",
    "area=pi*raio*raio \n",
    "print(\"A={:.4f}\".format(area)) #O comando limit o número de casas decimais após a vírgula (4, nesse caso)."
   ]
  },
  {
   "cell_type": "code",
   "execution_count": 18,
   "metadata": {},
   "outputs": [
    {
     "name": "stdout",
     "output_type": "stream",
     "text": [
      "677\n",
      "A=1439883.0193271562\n"
     ]
    }
   ],
   "source": [
    "#Modificação do problema!!!\n",
    "import math\n",
    "raio=eval(input())\n",
    "c=math.pi\n",
    "\n",
    "area=c*raio*raio \n",
    "print(\"A={}\".format(area))"
   ]
  },
  {
   "cell_type": "markdown",
   "metadata": {},
   "source": [
    "+ # 1003"
   ]
  },
  {
   "cell_type": "code",
   "execution_count": null,
   "metadata": {},
   "outputs": [],
   "source": []
  }
 ],
 "metadata": {
  "kernelspec": {
   "display_name": "Python 3",
   "language": "python",
   "name": "python3"
  },
  "language_info": {
   "codemirror_mode": {
    "name": "ipython",
    "version": 3
   },
   "file_extension": ".py",
   "mimetype": "text/x-python",
   "name": "python",
   "nbconvert_exporter": "python",
   "pygments_lexer": "ipython3",
   "version": "3.5.2"
  }
 },
 "nbformat": 4,
 "nbformat_minor": 2
}
