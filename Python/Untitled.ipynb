{
 "cells": [
  {
   "cell_type": "code",
   "execution_count": 11,
   "metadata": {},
   "outputs": [],
   "source": [
    "texto=\"\\tA programação da campanha presidencial de Jair Bolsonaro previu a chegada do candidato a Juiz de Fora às 11 horas de \\n6 de setembro. Bolsonaro visitaria o Hospital Ascomcer e participaria de um almoço com lideranças empresariais. Em seguida, \\nfaria um ato público em frente à Câmara Municipal da cidade, no Parque Halfeld, de onde iria para a Praça da Estação, onde\\nrealizaria seu comício.\\n\\tAssim como os outros candidatos, Bolsonaro era escoltado por agentes da Polícia Federal. Jair Bolsonaro foi esfaqueado enquanto era carregado nos ombros por simpatizantes em um evento de campanha na rua Halfeld, uma das mais importantes da região central da cidade mineira de Juiz de Fora.\\n\\tFoi ferido no abdômen, sofrendo uma lesão em uma veia abdominal que irriga o intestino, que causou uma grave hemorra-\\ngia. O deputado federal foi levado prontamente à Santa Casa de Misericórdia de Juiz de Fora, dando entrada na emergência\\npor volta de 15:40, com uma lesão por material perfurocortante no abdômen. O candidato foi submetido a uma laparotomia explora-\\ntória.\""
   ]
  },
  {
   "cell_type": "code",
   "execution_count": 12,
   "metadata": {},
   "outputs": [
    {
     "name": "stdout",
     "output_type": "stream",
     "text": [
      "\tA programação da campanha presidencial de Jair Bolsonaro previu a chegada do candidato a Juiz de Fora às 11 horas de \n",
      "6 de setembro. Bolsonaro visitaria o Hospital Ascomcer e participaria de um almoço com lideranças empresariais. Em seguida, \n",
      "faria um ato público em frente à Câmara Municipal da cidade, no Parque Halfeld, de onde iria para a Praça da Estação, onde\n",
      "realizaria seu comício.\n",
      "\tAssim como os outros candidatos, Bolsonaro era escoltado por agentes da Polícia Federal. Jair Bolsonaro foi esfaqueado enquanto era carregado nos ombros por simpatizantes em um evento de campanha na rua Halfeld, uma das mais importantes da região central da cidade mineira de Juiz de Fora.\n",
      "\tFoi ferido no abdômen, sofrendo uma lesão em uma veia abdominal que irriga o intestino, que causou uma grave hemorra-\n",
      "gia. O deputado federal foi levado prontamente à Santa Casa de Misericórdia de Juiz de Fora, dando entrada na emergência\n",
      "por volta de 15:40, com uma lesão por material perfurocortante no abdômen. O candidato foi submetido a uma laparotomia explora-\n",
      "tória.\n"
     ]
    }
   ],
   "source": [
    "print(texto)"
   ]
  },
  {
   "cell_type": "code",
   "execution_count": 13,
   "metadata": {},
   "outputs": [],
   "source": [
    "d=texto.replace(\"a\", \"%\")"
   ]
  },
  {
   "cell_type": "code",
   "execution_count": 14,
   "metadata": {},
   "outputs": [
    {
     "name": "stdout",
     "output_type": "stream",
     "text": [
      "\tA progr%m%ção d% c%mp%nh% presidenci%l de J%ir Bolson%ro previu % cheg%d% do c%ndid%to % Juiz de For% às 11 hor%s de \n",
      "6 de setembro. Bolson%ro visit%ri% o Hospit%l Ascomcer e p%rticip%ri% de um %lmoço com lider%nç%s empres%ri%is. Em seguid%, \n",
      "f%ri% um %to público em frente à Câm%r% Municip%l d% cid%de, no P%rque H%lfeld, de onde iri% p%r% % Pr%ç% d% Est%ção, onde\n",
      "re%liz%ri% seu comício.\n",
      "\tAssim como os outros c%ndid%tos, Bolson%ro er% escolt%do por %gentes d% Políci% Feder%l. J%ir Bolson%ro foi esf%que%do enqu%nto er% c%rreg%do nos ombros por simp%tiz%ntes em um evento de c%mp%nh% n% ru% H%lfeld, um% d%s m%is import%ntes d% região centr%l d% cid%de mineir% de Juiz de For%.\n",
      "\tFoi ferido no %bdômen, sofrendo um% lesão em um% vei% %bdomin%l que irrig% o intestino, que c%usou um% gr%ve hemorr%-\n",
      "gi%. O deput%do feder%l foi lev%do pront%mente à S%nt% C%s% de Misericórdi% de Juiz de For%, d%ndo entr%d% n% emergênci%\n",
      "por volt% de 15:40, com um% lesão por m%teri%l perfurocort%nte no %bdômen. O c%ndid%to foi submetido % um% l%p%rotomi% explor%-\n",
      "tóri%.\n"
     ]
    }
   ],
   "source": [
    "print(d)"
   ]
  },
  {
   "cell_type": "code",
   "execution_count": 15,
   "metadata": {},
   "outputs": [
    {
     "data": {
      "text/plain": [
       "4"
      ]
     },
     "execution_count": 15,
     "metadata": {},
     "output_type": "execute_result"
    }
   ],
   "source": [
    "texto.count(\"Bolsonaro\")"
   ]
  },
  {
   "cell_type": "code",
   "execution_count": 45,
   "metadata": {},
   "outputs": [
    {
     "name": "stdout",
     "output_type": "stream",
     "text": [
      "['a', 'programação', 'da', 'campanha', 'presidencial', 'de', 'jair', 'bolsonaro', 'previu', 'a', 'chegada', 'do', 'candidato', 'a', 'juiz', 'de', 'fora', 'às', '11', 'horas', 'de', '6', 'de', 'setembro.', 'bolsonaro', 'visitaria', 'o', 'hospital', 'ascomcer', 'e', 'participaria', 'de', 'um', 'almoço', 'com', 'lideranças', 'empresariais.', 'em', 'seguida,', 'faria', 'um', 'ato', 'público', 'em', 'frente', 'à', 'câmara', 'municipal', 'da', 'cidade,', 'no', 'parque', 'halfeld,', 'de', 'onde', 'iria', 'para', 'a', 'praça', 'da', 'estação,', 'onde', 'realizaria', 'seu', 'comício.', 'assim', 'como', 'os', 'outros', 'candidatos,', 'bolsonaro', 'era', 'escoltado', 'por', 'agentes', 'da', 'polícia', 'federal.', 'jair', 'bolsonaro', 'foi', 'esfaqueado', 'enquanto', 'era', 'carregado', 'nos', 'ombros', 'por', 'simpatizantes', 'em', 'um', 'evento', 'de', 'campanha', 'na', 'rua', 'halfeld,', 'uma', 'das', 'mais', 'importantes', 'da', 'região', 'central', 'da', 'cidade', 'mineira', 'de', 'juiz', 'de', 'fora.', 'foi', 'ferido', 'no', 'abdômen,', 'sofrendo', 'uma', 'lesão', 'em', 'uma', 'veia', 'abdominal', 'que', 'irriga', 'o', 'intestino,', 'que', 'causou', 'uma', 'grave', 'hemorra-', 'gia.', 'o', 'deputado', 'federal', 'foi', 'levado', 'prontamente', 'à', 'santa', 'casa', 'de', 'misericórdia', 'de', 'juiz', 'de', 'fora,', 'dando', 'entrada', 'na', 'emergência', 'por', 'volta', 'de', '15:40,', 'com', 'uma', 'lesão', 'por', 'material', 'perfurocortante', 'no', 'abdômen.', 'o', 'candidato', 'foi', 'submetido', 'a', 'uma', 'laparotomia', 'explora-', 'tória.']\n"
     ]
    }
   ],
   "source": [
    "import string\n",
    "palavras = [p.lower() for p in texto.split()]\n",
    "            #.strip(string.punctuation)\n",
    "#palavras = [p.replace('a','%') for p in palavras]\n",
    "#palavras = [p.strip(string.punctuation) for p in texto.split()]\n",
    "\n",
    "print(palavras)\n",
    "\n",
    "\n"
   ]
  },
  {
   "cell_type": "code",
   "execution_count": 42,
   "metadata": {},
   "outputs": [
    {
     "ename": "SyntaxError",
     "evalue": "invalid syntax (<ipython-input-42-a510ed20013f>, line 1)",
     "output_type": "error",
     "traceback": [
      "\u001b[0;36m  File \u001b[0;32m\"<ipython-input-42-a510ed20013f>\"\u001b[0;36m, line \u001b[0;32m1\u001b[0m\n\u001b[0;31m    texto.()\u001b[0m\n\u001b[0m          ^\u001b[0m\n\u001b[0;31mSyntaxError\u001b[0m\u001b[0;31m:\u001b[0m invalid syntax\n"
     ]
    }
   ],
   "source": []
  },
  {
   "cell_type": "code",
   "execution_count": null,
   "metadata": {},
   "outputs": [],
   "source": []
  },
  {
   "cell_type": "code",
   "execution_count": null,
   "metadata": {},
   "outputs": [],
   "source": [
    "\n"
   ]
  },
  {
   "cell_type": "code",
   "execution_count": null,
   "metadata": {},
   "outputs": [],
   "source": []
  },
  {
   "cell_type": "code",
   "execution_count": null,
   "metadata": {},
   "outputs": [],
   "source": [
    "\n",
    "\n"
   ]
  },
  {
   "cell_type": "code",
   "execution_count": null,
   "metadata": {},
   "outputs": [],
   "source": []
  },
  {
   "cell_type": "code",
   "execution_count": null,
   "metadata": {},
   "outputs": [],
   "source": []
  },
  {
   "cell_type": "code",
   "execution_count": null,
   "metadata": {},
   "outputs": [],
   "source": []
  },
  {
   "cell_type": "code",
   "execution_count": null,
   "metadata": {},
   "outputs": [],
   "source": []
  },
  {
   "cell_type": "code",
   "execution_count": null,
   "metadata": {},
   "outputs": [],
   "source": []
  },
  {
   "cell_type": "code",
   "execution_count": null,
   "metadata": {},
   "outputs": [],
   "source": []
  },
  {
   "cell_type": "code",
   "execution_count": 17,
   "metadata": {},
   "outputs": [],
   "source": [
    "import string\n",
    "\n",
    "palavras = [p.lower().strip(string.punctuation) for p in texto.split()]\n",
    "palavras = [p.replace('‘','') for p in palavras]\n",
    "palavras = [p.replace('“','') for p in palavras]\n",
    "palavras = [p.replace('”','') for p in palavras]"
   ]
  },
  {
   "cell_type": "code",
   "execution_count": 18,
   "metadata": {},
   "outputs": [
    {
     "data": {
      "text/plain": [
       "{'11': 1,\n",
       " '15:40': 1,\n",
       " '6': 1,\n",
       " 'a': 5,\n",
       " 'abdominal': 1,\n",
       " 'abdômen': 2,\n",
       " 'agentes': 1,\n",
       " 'almoço': 1,\n",
       " 'ascomcer': 1,\n",
       " 'assim': 1,\n",
       " 'ato': 1,\n",
       " 'bolsonaro': 4,\n",
       " 'campanha': 2,\n",
       " 'candidato': 2,\n",
       " 'candidatos': 1,\n",
       " 'carregado': 1,\n",
       " 'casa': 1,\n",
       " 'causou': 1,\n",
       " 'central': 1,\n",
       " 'chegada': 1,\n",
       " 'cidade': 2,\n",
       " 'com': 2,\n",
       " 'como': 1,\n",
       " 'comício': 1,\n",
       " 'câmara': 1,\n",
       " 'da': 6,\n",
       " 'dando': 1,\n",
       " 'das': 1,\n",
       " 'de': 13,\n",
       " 'deputado': 1,\n",
       " 'do': 1,\n",
       " 'e': 1,\n",
       " 'em': 4,\n",
       " 'emergência': 1,\n",
       " 'empresariais': 1,\n",
       " 'enquanto': 1,\n",
       " 'entrada': 1,\n",
       " 'era': 2,\n",
       " 'escoltado': 1,\n",
       " 'esfaqueado': 1,\n",
       " 'estação': 1,\n",
       " 'evento': 1,\n",
       " 'explora': 1,\n",
       " 'faria': 1,\n",
       " 'federal': 2,\n",
       " 'ferido': 1,\n",
       " 'foi': 4,\n",
       " 'fora': 3,\n",
       " 'frente': 1,\n",
       " 'gia': 1,\n",
       " 'grave': 1,\n",
       " 'halfeld': 2,\n",
       " 'hemorra': 1,\n",
       " 'horas': 1,\n",
       " 'hospital': 1,\n",
       " 'importantes': 1,\n",
       " 'intestino': 1,\n",
       " 'iria': 1,\n",
       " 'irriga': 1,\n",
       " 'jair': 2,\n",
       " 'juiz': 3,\n",
       " 'laparotomia': 1,\n",
       " 'lesão': 2,\n",
       " 'levado': 1,\n",
       " 'lideranças': 1,\n",
       " 'mais': 1,\n",
       " 'material': 1,\n",
       " 'mineira': 1,\n",
       " 'misericórdia': 1,\n",
       " 'municipal': 1,\n",
       " 'na': 2,\n",
       " 'no': 3,\n",
       " 'nos': 1,\n",
       " 'o': 4,\n",
       " 'ombros': 1,\n",
       " 'onde': 2,\n",
       " 'os': 1,\n",
       " 'outros': 1,\n",
       " 'para': 1,\n",
       " 'parque': 1,\n",
       " 'participaria': 1,\n",
       " 'perfurocortante': 1,\n",
       " 'polícia': 1,\n",
       " 'por': 4,\n",
       " 'praça': 1,\n",
       " 'presidencial': 1,\n",
       " 'previu': 1,\n",
       " 'programação': 1,\n",
       " 'prontamente': 1,\n",
       " 'público': 1,\n",
       " 'que': 2,\n",
       " 'realizaria': 1,\n",
       " 'região': 1,\n",
       " 'rua': 1,\n",
       " 'santa': 1,\n",
       " 'seguida': 1,\n",
       " 'setembro': 1,\n",
       " 'seu': 1,\n",
       " 'simpatizantes': 1,\n",
       " 'sofrendo': 1,\n",
       " 'submetido': 1,\n",
       " 'tória': 1,\n",
       " 'um': 3,\n",
       " 'uma': 6,\n",
       " 'veia': 1,\n",
       " 'visitaria': 1,\n",
       " 'volta': 1,\n",
       " 'à': 2,\n",
       " 'às': 1}"
      ]
     },
     "execution_count": 18,
     "metadata": {},
     "output_type": "execute_result"
    }
   ],
   "source": [
    "freqdist = {}\n",
    "for palavra in palavras:\n",
    "    if palavra in freqdist:\n",
    "        freqdist[palavra] += 1\n",
    "    else:\n",
    "        freqdist[palavra] = 1\n",
    "freqdist"
   ]
  },
  {
   "cell_type": "code",
   "execution_count": null,
   "metadata": {},
   "outputs": [],
   "source": []
  },
  {
   "cell_type": "code",
   "execution_count": 46,
   "metadata": {},
   "outputs": [],
   "source": [
    "c1={1,2,3,9,10,18,19,25,100}"
   ]
  },
  {
   "cell_type": "code",
   "execution_count": 48,
   "metadata": {},
   "outputs": [],
   "source": [
    "lista1=[\"Brasil\", 100,190,1323]"
   ]
  },
  {
   "cell_type": "code",
   "execution_count": 49,
   "metadata": {},
   "outputs": [],
   "source": [
    "c2=set(lista1)"
   ]
  },
  {
   "cell_type": "code",
   "execution_count": 50,
   "metadata": {},
   "outputs": [
    {
     "name": "stdout",
     "output_type": "stream",
     "text": [
      "{1323, 100, 'Brasil', 190}\n"
     ]
    }
   ],
   "source": [
    "print(c2)"
   ]
  },
  {
   "cell_type": "code",
   "execution_count": 51,
   "metadata": {},
   "outputs": [],
   "source": [
    "c3=c2.union(c1)"
   ]
  },
  {
   "cell_type": "code",
   "execution_count": 52,
   "metadata": {},
   "outputs": [
    {
     "name": "stdout",
     "output_type": "stream",
     "text": [
      "{1, 2, 3, 100, 'Brasil', 9, 10, 1323, 18, 19, 25, 190}\n"
     ]
    }
   ],
   "source": [
    "print(c3)"
   ]
  },
  {
   "cell_type": "code",
   "execution_count": 53,
   "metadata": {},
   "outputs": [],
   "source": [
    "c4=c1.intersection(c2)"
   ]
  },
  {
   "cell_type": "code",
   "execution_count": 54,
   "metadata": {},
   "outputs": [
    {
     "name": "stdout",
     "output_type": "stream",
     "text": [
      "{100}\n"
     ]
    }
   ],
   "source": [
    "print(c4)"
   ]
  },
  {
   "cell_type": "code",
   "execution_count": 55,
   "metadata": {},
   "outputs": [
    {
     "name": "stdout",
     "output_type": "stream",
     "text": [
      "16\n",
      "12\n"
     ]
    }
   ],
   "source": [
    "print(len('uma string legal'))\n",
    "print(len(set('uma string legal')))"
   ]
  },
  {
   "cell_type": "code",
   "execution_count": 56,
   "metadata": {},
   "outputs": [
    {
     "data": {
      "text/plain": [
       "{' ', 'a', 'e', 'g', 'i', 'l', 'm', 'n', 'r', 's', 't', 'u'}"
      ]
     },
     "execution_count": 56,
     "metadata": {},
     "output_type": "execute_result"
    }
   ],
   "source": [
    "set(\"uma string legal\")"
   ]
  },
  {
   "cell_type": "code",
   "execution_count": 62,
   "metadata": {},
   "outputs": [],
   "source": [
    "texto = '''\n",
    "Nosso pai era homem cumpridor, ordeiro, positivo; e sido assim desde mocinho e menino, pelo que testemunharam as diversas sensatas pessoas, quando indaguei a informação. \n",
    "Do que eu mesmo me alembro, ele não figurava mais estúrdio nem mais triste do que os outros, conhecidos nossos.\n",
    "'''"
   ]
  },
  {
   "cell_type": "code",
   "execution_count": 65,
   "metadata": {},
   "outputs": [],
   "source": [
    "wordslist=texto.split()"
   ]
  },
  {
   "cell_type": "code",
   "execution_count": 72,
   "metadata": {},
   "outputs": [
    {
     "data": {
      "text/plain": [
       "['Nosso',\n",
       " 'pai',\n",
       " 'era',\n",
       " 'homem',\n",
       " 'cumpridor,',\n",
       " 'ordeiro,',\n",
       " 'positivo;',\n",
       " 'e',\n",
       " 'sido',\n",
       " 'assim',\n",
       " 'desde',\n",
       " 'mocinho',\n",
       " 'e',\n",
       " 'menino,',\n",
       " 'pelo',\n",
       " 'que',\n",
       " 'testemunharam',\n",
       " 'as',\n",
       " 'diversas',\n",
       " 'sensatas',\n",
       " 'pessoas,',\n",
       " 'quando',\n",
       " 'indaguei',\n",
       " 'a',\n",
       " 'informação.',\n",
       " 'Do',\n",
       " 'que',\n",
       " 'eu',\n",
       " 'mesmo',\n",
       " 'me',\n",
       " 'alembro,',\n",
       " 'ele',\n",
       " 'não',\n",
       " 'figurava',\n",
       " 'mais',\n",
       " 'estúrdio',\n",
       " 'nem',\n",
       " 'mais',\n",
       " 'triste',\n",
       " 'do',\n",
       " 'que',\n",
       " 'os',\n",
       " 'outros,',\n",
       " 'conhecidos',\n",
       " 'nossos.',\n",
       " 'Só',\n",
       " 'quieto.',\n",
       " 'Nossa',\n",
       " 'mãe',\n",
       " 'era',\n",
       " 'quem',\n",
       " 'regia,',\n",
       " 'e',\n",
       " 'que',\n",
       " 'ralhava',\n",
       " 'no',\n",
       " 'diário',\n",
       " 'com',\n",
       " 'a',\n",
       " 'gente',\n",
       " '—',\n",
       " 'minha',\n",
       " 'irmã,',\n",
       " 'meu',\n",
       " 'irmão',\n",
       " 'e',\n",
       " 'eu.',\n",
       " 'Mas',\n",
       " 'se',\n",
       " 'deu',\n",
       " 'que,',\n",
       " 'certo',\n",
       " 'dia,',\n",
       " 'nosso',\n",
       " 'pai',\n",
       " 'mandou',\n",
       " 'fazer',\n",
       " 'para',\n",
       " 'si',\n",
       " 'uma',\n",
       " 'canoa.']"
      ]
     },
     "execution_count": 72,
     "metadata": {},
     "output_type": "execute_result"
    }
   ],
   "source": [
    "wordslist"
   ]
  },
  {
   "cell_type": "code",
   "execution_count": 73,
   "metadata": {},
   "outputs": [],
   "source": [
    "newlist=set(wordslist)"
   ]
  },
  {
   "cell_type": "code",
   "execution_count": 74,
   "metadata": {},
   "outputs": [
    {
     "data": {
      "text/plain": [
       "{'Do',\n",
       " 'Mas',\n",
       " 'Nossa',\n",
       " 'Nosso',\n",
       " 'Só',\n",
       " 'a',\n",
       " 'alembro,',\n",
       " 'as',\n",
       " 'assim',\n",
       " 'canoa.',\n",
       " 'certo',\n",
       " 'com',\n",
       " 'conhecidos',\n",
       " 'cumpridor,',\n",
       " 'desde',\n",
       " 'deu',\n",
       " 'dia,',\n",
       " 'diversas',\n",
       " 'diário',\n",
       " 'do',\n",
       " 'e',\n",
       " 'ele',\n",
       " 'era',\n",
       " 'estúrdio',\n",
       " 'eu',\n",
       " 'eu.',\n",
       " 'fazer',\n",
       " 'figurava',\n",
       " 'gente',\n",
       " 'homem',\n",
       " 'indaguei',\n",
       " 'informação.',\n",
       " 'irmã,',\n",
       " 'irmão',\n",
       " 'mais',\n",
       " 'mandou',\n",
       " 'me',\n",
       " 'menino,',\n",
       " 'mesmo',\n",
       " 'meu',\n",
       " 'minha',\n",
       " 'mocinho',\n",
       " 'mãe',\n",
       " 'nem',\n",
       " 'no',\n",
       " 'nosso',\n",
       " 'nossos.',\n",
       " 'não',\n",
       " 'ordeiro,',\n",
       " 'os',\n",
       " 'outros,',\n",
       " 'pai',\n",
       " 'para',\n",
       " 'pelo',\n",
       " 'pessoas,',\n",
       " 'positivo;',\n",
       " 'quando',\n",
       " 'que',\n",
       " 'que,',\n",
       " 'quem',\n",
       " 'quieto.',\n",
       " 'ralhava',\n",
       " 'regia,',\n",
       " 'se',\n",
       " 'sensatas',\n",
       " 'si',\n",
       " 'sido',\n",
       " 'testemunharam',\n",
       " 'triste',\n",
       " 'uma',\n",
       " '—'}"
      ]
     },
     "execution_count": 74,
     "metadata": {},
     "output_type": "execute_result"
    }
   ],
   "source": [
    "newlist"
   ]
  },
  {
   "cell_type": "code",
   "execution_count": 75,
   "metadata": {},
   "outputs": [
    {
     "name": "stdout",
     "output_type": "stream",
     "text": [
      "81\n",
      "71\n"
     ]
    }
   ],
   "source": [
    "print(len(wordslist))\n",
    "print(len(newlist))"
   ]
  },
  {
   "cell_type": "code",
   "execution_count": 77,
   "metadata": {},
   "outputs": [],
   "source": [
    "f=\"%\".join(wordslist)"
   ]
  },
  {
   "cell_type": "code",
   "execution_count": 79,
   "metadata": {},
   "outputs": [
    {
     "name": "stdout",
     "output_type": "stream",
     "text": [
      "Nosso%pai%era%homem%cumpridor,%ordeiro,%positivo;%e%sido%assim%desde%mocinho%e%menino,%pelo%que%testemunharam%as%diversas%sensatas%pessoas,%quando%indaguei%a%informação.%Do%que%eu%mesmo%me%alembro,%ele%não%figurava%mais%estúrdio%nem%mais%triste%do%que%os%outros,%conhecidos%nossos.%Só%quieto.%Nossa%mãe%era%quem%regia,%e%que%ralhava%no%diário%com%a%gente%—%minha%irmã,%meu%irmão%e%eu.%Mas%se%deu%que,%certo%dia,%nosso%pai%mandou%fazer%para%si%uma%canoa.\n"
     ]
    }
   ],
   "source": [
    "print(f)"
   ]
  },
  {
   "cell_type": "code",
   "execution_count": 80,
   "metadata": {},
   "outputs": [
    {
     "data": {
      "text/plain": [
       "'!\"#$%&\\'()*+,-./:;<=>?@[\\\\]^_`{|}~'"
      ]
     },
     "execution_count": 80,
     "metadata": {},
     "output_type": "execute_result"
    }
   ],
   "source": [
    "import string\n",
    "string.punctuation"
   ]
  },
  {
   "cell_type": "code",
   "execution_count": 81,
   "metadata": {},
   "outputs": [
    {
     "data": {
      "text/plain": [
       "'\\nNosso pai era homem cumpridor, ordeiro, positivo; e sido assim desde mocinho e menino, pelo que testemunharam as diversas sensatas pessoas, quando indaguei a informação***** \\nDo que eu mesmo me alembro, ele não figurava mais estúrdio nem mais triste do que os outros, conhecidos nossos***** Só quieto***** Nossa mãe era quem regia, e que ralhava no diário \\ncom a gente — minha irmã, meu irmão e eu***** Mas se deu que, certo dia, nosso pai mandou fazer para si uma canoa***** \\n'"
      ]
     },
     "execution_count": 81,
     "metadata": {},
     "output_type": "execute_result"
    }
   ],
   "source": [
    "for punct in ['.','?','!']:\n",
    "    texto = texto.replace(punct, '*****')\n",
    "texto"
   ]
  },
  {
   "cell_type": "code",
   "execution_count": 83,
   "metadata": {},
   "outputs": [],
   "source": [
    "p=texto.split('*****')"
   ]
  },
  {
   "cell_type": "code",
   "execution_count": 84,
   "metadata": {},
   "outputs": [
    {
     "name": "stdout",
     "output_type": "stream",
     "text": [
      "['\\nNosso pai era homem cumpridor, ordeiro, positivo; e sido assim desde mocinho e menino, pelo que testemunharam as diversas sensatas pessoas, quando indaguei a informação', ' \\nDo que eu mesmo me alembro, ele não figurava mais estúrdio nem mais triste do que os outros, conhecidos nossos', ' Só quieto', ' Nossa mãe era quem regia, e que ralhava no diário \\ncom a gente — minha irmã, meu irmão e eu', ' Mas se deu que, certo dia, nosso pai mandou fazer para si uma canoa', ' \\n']\n"
     ]
    }
   ],
   "source": [
    "print(p)"
   ]
  },
  {
   "cell_type": "code",
   "execution_count": 87,
   "metadata": {},
   "outputs": [],
   "source": [
    "str1=\"Meu nome é \"\n",
    "str1+=\"Claudio!!!\" #Ele \"atualiza\" o valor de str1"
   ]
  },
  {
   "cell_type": "code",
   "execution_count": 89,
   "metadata": {},
   "outputs": [
    {
     "data": {
      "text/plain": [
       "'Meu nome é Claudio!!!'"
      ]
     },
     "execution_count": 89,
     "metadata": {},
     "output_type": "execute_result"
    }
   ],
   "source": [
    "str1"
   ]
  },
  {
   "cell_type": "code",
   "execution_count": 90,
   "metadata": {},
   "outputs": [],
   "source": [
    "x,y,z=(0,1,2)"
   ]
  },
  {
   "cell_type": "code",
   "execution_count": 92,
   "metadata": {},
   "outputs": [
    {
     "data": {
      "text/plain": [
       "0"
      ]
     },
     "execution_count": 92,
     "metadata": {},
     "output_type": "execute_result"
    }
   ],
   "source": [
    "x"
   ]
  },
  {
   "cell_type": "code",
   "execution_count": 93,
   "metadata": {},
   "outputs": [
    {
     "data": {
      "text/plain": [
       "1"
      ]
     },
     "execution_count": 93,
     "metadata": {},
     "output_type": "execute_result"
    }
   ],
   "source": [
    "y"
   ]
  },
  {
   "cell_type": "code",
   "execution_count": 94,
   "metadata": {},
   "outputs": [
    {
     "data": {
      "text/plain": [
       "2"
      ]
     },
     "execution_count": 94,
     "metadata": {},
     "output_type": "execute_result"
    }
   ],
   "source": [
    "z"
   ]
  },
  {
   "cell_type": "code",
   "execution_count": 124,
   "metadata": {},
   "outputs": [],
   "source": [
    "a,*b,c=(2,4,5,9,89,67,67,89,100)"
   ]
  },
  {
   "cell_type": "code",
   "execution_count": 125,
   "metadata": {},
   "outputs": [
    {
     "data": {
      "text/plain": [
       "[4, 5, 9, 89, 67, 67, 89]"
      ]
     },
     "execution_count": 125,
     "metadata": {},
     "output_type": "execute_result"
    }
   ],
   "source": [
    "b"
   ]
  },
  {
   "cell_type": "code",
   "execution_count": 126,
   "metadata": {},
   "outputs": [
    {
     "data": {
      "text/plain": [
       "2"
      ]
     },
     "execution_count": 126,
     "metadata": {},
     "output_type": "execute_result"
    }
   ],
   "source": [
    "a"
   ]
  },
  {
   "cell_type": "code",
   "execution_count": 130,
   "metadata": {},
   "outputs": [
    {
     "data": {
      "text/plain": [
       "100"
      ]
     },
     "execution_count": 130,
     "metadata": {},
     "output_type": "execute_result"
    }
   ],
   "source": [
    "c"
   ]
  },
  {
   "cell_type": "code",
   "execution_count": 131,
   "metadata": {},
   "outputs": [],
   "source": [
    "import time\n",
    "import random"
   ]
  },
  {
   "cell_type": "code",
   "execution_count": 1,
   "metadata": {},
   "outputs": [
    {
     "name": "stdout",
     "output_type": "stream",
     "text": [
      "Qual é o seu nome? \n",
      " \n",
      "Claudio\n",
      "\n",
      "Parabéns!!! Seu nome começa com C!\n",
      "Você é um cara muito LEGAL!!!\n",
      "\n",
      "...Next\n"
     ]
    }
   ],
   "source": [
    "nome = input(\"Qual é o seu nome? \\n \\n\") \n",
    "\n",
    "if nome.startswith('C'):\n",
    "    print('\\nParabéns!!! Seu nome começa com {}!'.format(nome[0]))\n",
    "    print('Você é um cara muito LEGAL!!!')\n",
    "elif nome==\"Deivid\":\n",
    "    print('Parabéns, {}! Você foi sorteado e vai receber a considerável quantia de 1 milhão de reais!!! Agora vai curtir a vida de maneira mais confrotável! kkk'.format(nome))\n",
    "elif nome.startswith('V'):\n",
    "    print('Seu nome começa com {}!'.format(nome[0]))\n",
    "else:\n",
    "    print('Seu nome não começa com T,U ou V!')\n",
    "print('\\n...Next')"
   ]
  },
  {
   "cell_type": "code",
   "execution_count": 7,
   "metadata": {},
   "outputs": [
    {
     "name": "stdout",
     "output_type": "stream",
     "text": [
      "Qual é o seu nome? \n",
      "Claudio\n",
      "Claudio, seu nome termina com o !!!\n"
     ]
    }
   ],
   "source": [
    "entrada=input(\"Qual é o seu nome? \\n\")\n",
    "\n",
    "if entrada.endswith(\"a\"):\n",
    "    print(\"{0}, seu nome termina com {1} !!!\".format(entrada, entrada[-1]))\n",
    "elif entrada.endswith(\"o\"):\n",
    "    print(\"{0}, seu nome termina com {1} !!!\".format(entrada, entrada[-1]))\n",
    "else:\n",
    "    print(\"Seu nome não termina com nenhuma das letras acima colocadas!\")"
   ]
  },
  {
   "cell_type": "code",
   "execution_count": 14,
   "metadata": {},
   "outputs": [],
   "source": [
    "def Soma(x,y):\n",
    "    #print(\"Soma dos elementos x e y\")\n",
    "    return x+y"
   ]
  },
  {
   "cell_type": "code",
   "execution_count": 15,
   "metadata": {},
   "outputs": [
    {
     "data": {
      "text/plain": [
       "3"
      ]
     },
     "execution_count": 15,
     "metadata": {},
     "output_type": "execute_result"
    }
   ],
   "source": [
    "Soma(1,2)"
   ]
  },
  {
   "cell_type": "code",
   "execution_count": 16,
   "metadata": {},
   "outputs": [
    {
     "data": {
      "text/plain": [
       "100002"
      ]
     },
     "execution_count": 16,
     "metadata": {},
     "output_type": "execute_result"
    }
   ],
   "source": [
    "Soma(2,100000)"
   ]
  },
  {
   "cell_type": "code",
   "execution_count": null,
   "metadata": {},
   "outputs": [],
   "source": [
    "def FuncaoRecursiva(x):\n",
    "    if x.isintenger:\n",
    "        return x"
   ]
  },
  {
   "cell_type": "code",
   "execution_count": null,
   "metadata": {},
   "outputs": [],
   "source": []
  },
  {
   "cell_type": "code",
   "execution_count": null,
   "metadata": {},
   "outputs": [],
   "source": []
  },
  {
   "cell_type": "code",
   "execution_count": null,
   "metadata": {},
   "outputs": [],
   "source": []
  },
  {
   "cell_type": "code",
   "execution_count": null,
   "metadata": {},
   "outputs": [],
   "source": []
  },
  {
   "cell_type": "code",
   "execution_count": null,
   "metadata": {},
   "outputs": [],
   "source": []
  },
  {
   "cell_type": "code",
   "execution_count": null,
   "metadata": {},
   "outputs": [],
   "source": []
  },
  {
   "cell_type": "code",
   "execution_count": null,
   "metadata": {},
   "outputs": [],
   "source": []
  },
  {
   "cell_type": "code",
   "execution_count": null,
   "metadata": {},
   "outputs": [],
   "source": []
  },
  {
   "cell_type": "code",
   "execution_count": null,
   "metadata": {},
   "outputs": [],
   "source": []
  },
  {
   "cell_type": "code",
   "execution_count": null,
   "metadata": {},
   "outputs": [],
   "source": []
  },
  {
   "cell_type": "code",
   "execution_count": null,
   "metadata": {},
   "outputs": [],
   "source": []
  },
  {
   "cell_type": "code",
   "execution_count": null,
   "metadata": {},
   "outputs": [],
   "source": []
  },
  {
   "cell_type": "code",
   "execution_count": null,
   "metadata": {},
   "outputs": [],
   "source": []
  },
  {
   "cell_type": "code",
   "execution_count": null,
   "metadata": {},
   "outputs": [],
   "source": []
  },
  {
   "cell_type": "code",
   "execution_count": null,
   "metadata": {},
   "outputs": [],
   "source": []
  },
  {
   "cell_type": "code",
   "execution_count": null,
   "metadata": {},
   "outputs": [],
   "source": []
  },
  {
   "cell_type": "code",
   "execution_count": null,
   "metadata": {},
   "outputs": [],
   "source": []
  },
  {
   "cell_type": "code",
   "execution_count": null,
   "metadata": {},
   "outputs": [],
   "source": []
  },
  {
   "cell_type": "code",
   "execution_count": null,
   "metadata": {},
   "outputs": [],
   "source": []
  },
  {
   "cell_type": "code",
   "execution_count": null,
   "metadata": {},
   "outputs": [],
   "source": []
  },
  {
   "cell_type": "code",
   "execution_count": null,
   "metadata": {},
   "outputs": [],
   "source": []
  },
  {
   "cell_type": "code",
   "execution_count": null,
   "metadata": {},
   "outputs": [],
   "source": []
  },
  {
   "cell_type": "code",
   "execution_count": null,
   "metadata": {},
   "outputs": [],
   "source": []
  },
  {
   "cell_type": "code",
   "execution_count": null,
   "metadata": {},
   "outputs": [],
   "source": []
  },
  {
   "cell_type": "code",
   "execution_count": null,
   "metadata": {},
   "outputs": [],
   "source": []
  },
  {
   "cell_type": "code",
   "execution_count": null,
   "metadata": {},
   "outputs": [],
   "source": []
  },
  {
   "cell_type": "code",
   "execution_count": null,
   "metadata": {},
   "outputs": [],
   "source": []
  },
  {
   "cell_type": "code",
   "execution_count": null,
   "metadata": {},
   "outputs": [],
   "source": []
  },
  {
   "cell_type": "code",
   "execution_count": null,
   "metadata": {},
   "outputs": [],
   "source": []
  },
  {
   "cell_type": "code",
   "execution_count": null,
   "metadata": {},
   "outputs": [],
   "source": []
  },
  {
   "cell_type": "code",
   "execution_count": null,
   "metadata": {},
   "outputs": [],
   "source": []
  },
  {
   "cell_type": "code",
   "execution_count": null,
   "metadata": {},
   "outputs": [],
   "source": []
  },
  {
   "cell_type": "code",
   "execution_count": null,
   "metadata": {},
   "outputs": [],
   "source": []
  },
  {
   "cell_type": "code",
   "execution_count": null,
   "metadata": {},
   "outputs": [],
   "source": []
  },
  {
   "cell_type": "code",
   "execution_count": null,
   "metadata": {},
   "outputs": [],
   "source": []
  },
  {
   "cell_type": "code",
   "execution_count": null,
   "metadata": {},
   "outputs": [],
   "source": []
  },
  {
   "cell_type": "code",
   "execution_count": null,
   "metadata": {},
   "outputs": [],
   "source": []
  },
  {
   "cell_type": "code",
   "execution_count": null,
   "metadata": {},
   "outputs": [],
   "source": []
  },
  {
   "cell_type": "code",
   "execution_count": null,
   "metadata": {},
   "outputs": [],
   "source": []
  },
  {
   "cell_type": "code",
   "execution_count": null,
   "metadata": {},
   "outputs": [],
   "source": []
  },
  {
   "cell_type": "code",
   "execution_count": null,
   "metadata": {},
   "outputs": [],
   "source": []
  },
  {
   "cell_type": "code",
   "execution_count": null,
   "metadata": {},
   "outputs": [],
   "source": []
  },
  {
   "cell_type": "code",
   "execution_count": null,
   "metadata": {},
   "outputs": [],
   "source": []
  },
  {
   "cell_type": "code",
   "execution_count": null,
   "metadata": {},
   "outputs": [],
   "source": []
  },
  {
   "cell_type": "code",
   "execution_count": null,
   "metadata": {},
   "outputs": [],
   "source": []
  },
  {
   "cell_type": "code",
   "execution_count": null,
   "metadata": {},
   "outputs": [],
   "source": []
  },
  {
   "cell_type": "code",
   "execution_count": null,
   "metadata": {},
   "outputs": [],
   "source": []
  },
  {
   "cell_type": "code",
   "execution_count": null,
   "metadata": {},
   "outputs": [],
   "source": []
  },
  {
   "cell_type": "code",
   "execution_count": null,
   "metadata": {},
   "outputs": [],
   "source": []
  },
  {
   "cell_type": "code",
   "execution_count": null,
   "metadata": {},
   "outputs": [],
   "source": []
  },
  {
   "cell_type": "code",
   "execution_count": null,
   "metadata": {},
   "outputs": [],
   "source": []
  },
  {
   "cell_type": "code",
   "execution_count": null,
   "metadata": {},
   "outputs": [],
   "source": []
  },
  {
   "cell_type": "code",
   "execution_count": null,
   "metadata": {},
   "outputs": [],
   "source": []
  }
 ],
 "metadata": {
  "kernelspec": {
   "display_name": "Python 3",
   "language": "python",
   "name": "python3"
  },
  "language_info": {
   "codemirror_mode": {
    "name": "ipython",
    "version": 3
   },
   "file_extension": ".py",
   "mimetype": "text/x-python",
   "name": "python",
   "nbconvert_exporter": "python",
   "pygments_lexer": "ipython3",
   "version": "3.5.2"
  }
 },
 "nbformat": 4,
 "nbformat_minor": 2
}
