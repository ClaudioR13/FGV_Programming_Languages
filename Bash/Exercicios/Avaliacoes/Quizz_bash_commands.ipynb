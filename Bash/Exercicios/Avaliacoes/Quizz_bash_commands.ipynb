{
 "cells": [
  {
   "cell_type": "code",
   "execution_count": 2,
   "metadata": {},
   "outputs": [],
   "source": [
    "import sh"
   ]
  },
  {
   "cell_type": "markdown",
   "metadata": {},
   "source": [
    "No Jupyter notebook, existem duas maneiras de interagir com o shell.\n",
    "\n",
    "+ Usando o múdulo sh  \n",
    "+ Colocando uma exclamação antes da linha na célula  \n",
    "\n",
    "Veja os exemplos:"
   ]
  },
  {
   "cell_type": "code",
   "execution_count": 5,
   "metadata": {},
   "outputs": [
    {
     "data": {
      "text/plain": []
     },
     "execution_count": 5,
     "metadata": {},
     "output_type": "execute_result"
    }
   ],
   "source": [
    "sh.touch('teste.txt')"
   ]
  },
  {
   "cell_type": "code",
   "execution_count": 6,
   "metadata": {},
   "outputs": [],
   "source": [
    "!echo 'um texto interessante' > teste2.txt"
   ]
  },
  {
   "cell_type": "markdown",
   "metadata": {},
   "source": [
    "Resolva as seguintes tarefas:"
   ]
  },
  {
   "cell_type": "markdown",
   "metadata": {},
   "source": [
    "1 - Acesse o arquivo \"Genesis.txt\" na pasta correta e conte o número de ocorrências da palavra \"God\" (desconderar as vezes em que as letras fazem parte de outra palavra)"
   ]
  },
  {
   "cell_type": "code",
   "execution_count": null,
   "metadata": {},
   "outputs": [],
   "source": []
  },
  {
   "cell_type": "code",
   "execution_count": 1,
   "metadata": {},
   "outputs": [
    {
     "name": "stdout",
     "output_type": "stream",
     "text": [
      "/dados/home/cr17/FGV_Programming_Languages/Bash/Exercicios/Avaliacoes\r\n"
     ]
    }
   ],
   "source": [
    "!pwd"
   ]
  },
  {
   "cell_type": "code",
   "execution_count": 2,
   "metadata": {},
   "outputs": [
    {
     "name": "stdout",
     "output_type": "stream",
     "text": [
      "total 40\r\n",
      "-rw-r--r-- 1 cr17 cr17  1894 Sep 10 11:20 custombash.sh\r\n",
      "drwxr-xr-x 2 cr17 cr17  4096 Oct 10 11:23 \u001b[0m\u001b[01;34mDados\u001b[0m/\r\n",
      "drwxr-xr-x 3 cr17 cr17  4096 Oct 10 11:23 \u001b[01;34mExercicios\u001b[0m/\r\n",
      "-rw-r--r-- 1 cr17 cr17 25987 Oct 10 11:23 shell_comands.md\r\n"
     ]
    }
   ],
   "source": [
    "ls -l ../.."
   ]
  },
  {
   "cell_type": "code",
   "execution_count": null,
   "metadata": {},
   "outputs": [],
   "source": [
    "sh.cat"
   ]
  },
  {
   "cell_type": "markdown",
   "metadata": {},
   "source": [
    "2 - Descubra os nomes próprios do arquivo acima"
   ]
  },
  {
   "cell_type": "code",
   "execution_count": null,
   "metadata": {},
   "outputs": [],
   "source": []
  },
  {
   "cell_type": "markdown",
   "metadata": {},
   "source": [
    "3 - Descubra a palavra que mais ocorre em uma única linha"
   ]
  },
  {
   "cell_type": "code",
   "execution_count": null,
   "metadata": {},
   "outputs": [],
   "source": []
  },
  {
   "cell_type": "markdown",
   "metadata": {},
   "source": [
    "4 - Crie um novo texto (genesis2.txt) em que os números no início da linha são retirados"
   ]
  },
  {
   "cell_type": "code",
   "execution_count": null,
   "metadata": {},
   "outputs": [],
   "source": []
  }
 ],
 "metadata": {
  "kernelspec": {
   "display_name": "Python 3",
   "language": "python",
   "name": "python3"
  },
  "language_info": {
   "codemirror_mode": {
    "name": "ipython",
    "version": 3
   },
   "file_extension": ".py",
   "mimetype": "text/x-python",
   "name": "python",
   "nbconvert_exporter": "python",
   "pygments_lexer": "ipython3",
   "version": "3.5.2"
  }
 },
 "nbformat": 4,
 "nbformat_minor": 2
}
